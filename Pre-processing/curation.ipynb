{
 "cells": [
  {
   "cell_type": "code",
   "execution_count": 9,
   "metadata": {},
   "outputs": [],
   "source": [
    "from facetorch import FaceAnalyzer\n",
    "from facetorch.analyzer.utilizer import LandmarkDrawerTorch\n",
    "from omegaconf import OmegaConf\n",
    "from torch.nn.functional import cosine_similarity\n",
    "from typing import Dict\n",
    "import operator\n",
    "import torchvision\n",
    "import os\n",
    "import shutil\n",
    "import torch\n",
    "from PIL import Image"
   ]
  },
  {
   "cell_type": "markdown",
   "metadata": {},
   "source": [
    "## Curating First Dataset (LFW)"
   ]
  },
  {
   "cell_type": "code",
   "execution_count": 10,
   "metadata": {},
   "outputs": [],
   "source": [
    "DATASET_PATH = '../Dataset/Labeled_Faces_in_the_Wild/lfw-deepfunneled/lfw-deepfunneled/'\n",
    "NEW_PATH = './Curated_Dataset/'\n",
    "if os.path.exists(NEW_PATH):\n",
    "    shutil.rmtree(NEW_PATH)\n",
    "os.makedirs(NEW_PATH)"
   ]
  },
  {
   "cell_type": "code",
   "execution_count": 11,
   "metadata": {},
   "outputs": [],
   "source": [
    "thresholdImages = 10\n",
    "for name in os.listdir(DATASET_PATH):\n",
    "\n",
    "    temp_path = DATASET_PATH + f'{name}'\n",
    "    if len(os.listdir(temp_path)) >= thresholdImages:\n",
    "        temp_new_path = NEW_PATH + f'{name}'\n",
    "        if os.path.exists(temp_new_path):\n",
    "            shutil.rmtree(temp_new_path)\n",
    "        shutil.copytree(temp_path, temp_new_path)\n"
   ]
  },
  {
   "cell_type": "code",
   "execution_count": 12,
   "metadata": {},
   "outputs": [],
   "source": [
    "\"TODO OBS!! Nuvarande problem med att om man kör flera gånger så skapas '_hor_flipped_hor_flipped' bilder av ngn anledning. Inte klart varför\"\n",
    "\n",
    "\"\"\"\n",
    "    Flips an Image on it's horizontal (x) axis and saves it with it's name + \"_hor_flipped\"\n",
    "    Ex: \"path/image.jpg\" -> \"path/image_x_flipped.jpg\"\n",
    "\n",
    "    Args:\n",
    "        path_to_image (str): The file path to the image to flip.\n",
    "\n",
    "    \"\"\"\n",
    "def flipImageHorizontalAndSave(path_img):\n",
    "    image_name = path_img[:-4]\n",
    "    newName = image_name + \"_hor_flipped.jpg\"\n",
    "    if not os.path.isfile(newName):\n",
    "        img = Image.open(path_img)\n",
    "        flip_img = img.transpose(Image.Transpose.FLIP_LEFT_RIGHT)\n",
    "        flip_img.save(newName)\n",
    "\n",
    "## FLIPS ALL IMAGES AFTER FILTER, BEFORE ANCHOR POINTS\n",
    "selectedPath = NEW_PATH\n",
    "\n",
    "## FLIPS ALL IMAGES AFTER ANCHOR POINTS\n",
    "# selectedPath = \"Pre-processing\\dataset\\face_dataset\"\n",
    "\n",
    "for name in os.listdir(selectedPath):\n",
    "    temp_path = selectedPath + f'{name}'\n",
    "    for image in os.listdir(temp_path):\n",
    "        path_name = temp_path +\"/\"+ image\n",
    "        flipImageHorizontalAndSave(path_name)"
   ]
  }
 ],
 "metadata": {
  "kernelspec": {
   "display_name": "base",
   "language": "python",
   "name": "python3"
  },
  "language_info": {
   "codemirror_mode": {
    "name": "ipython",
    "version": 3
   },
   "file_extension": ".py",
   "mimetype": "text/x-python",
   "name": "python",
   "nbconvert_exporter": "python",
   "pygments_lexer": "ipython3",
   "version": "3.11.7"
  }
 },
 "nbformat": 4,
 "nbformat_minor": 2
}
