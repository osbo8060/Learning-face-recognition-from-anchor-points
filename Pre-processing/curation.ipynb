{
 "cells": [
  {
   "cell_type": "code",
   "execution_count": 2,
   "metadata": {},
   "outputs": [],
   "source": [
    "from facetorch import FaceAnalyzer\n",
    "from facetorch.analyzer.utilizer import LandmarkDrawerTorch\n",
    "from omegaconf import OmegaConf\n",
    "from torch.nn.functional import cosine_similarity\n",
    "from typing import Dict\n",
    "import operator\n",
    "import torchvision\n",
    "import os\n",
    "import shutil\n",
    "import torch"
   ]
  },
  {
   "cell_type": "markdown",
   "metadata": {},
   "source": [
    "## Curating First Dataset (LFW)"
   ]
  },
  {
   "cell_type": "code",
   "execution_count": 3,
   "metadata": {},
   "outputs": [],
   "source": [
    "DATASET_PATH = '../Dataset/Labeled_Faces_in_the_Wild/lfw-deepfunneled/lfw-deepfunneled/'\n",
    "NEW_PATH = './Curated_Dataset/'\n",
    "if os.path.exists(NEW_PATH):\n",
    "    shutil.rmtree(NEW_PATH)\n",
    "os.makedirs(NEW_PATH)"
   ]
  },
  {
   "cell_type": "code",
   "execution_count": 5,
   "metadata": {},
   "outputs": [],
   "source": [
    "thresholdImages = 10\n",
    "for name in os.listdir(DATASET_PATH):\n",
    "\n",
    "    temp_path = DATASET_PATH + f'{name}'\n",
    "    if len(os.listdir(temp_path)) >= thresholdImages:\n",
    "        temp_new_path = NEW_PATH + f'{name}'\n",
    "        if os.path.exists(temp_new_path):\n",
    "            shutil.rmtree(temp_new_path)\n",
    "        shutil.copytree(temp_path, temp_new_path)"
   ]
  }
 ],
 "metadata": {
  "kernelspec": {
   "display_name": "base",
   "language": "python",
   "name": "python3"
  },
  "language_info": {
   "codemirror_mode": {
    "name": "ipython",
    "version": 3
   },
   "file_extension": ".py",
   "mimetype": "text/x-python",
   "name": "python",
   "nbconvert_exporter": "python",
   "pygments_lexer": "ipython3",
   "version": "3.11.7"
  }
 },
 "nbformat": 4,
 "nbformat_minor": 2
}
