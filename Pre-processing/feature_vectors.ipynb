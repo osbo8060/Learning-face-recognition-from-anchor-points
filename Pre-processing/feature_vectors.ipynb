{
 "cells": [
  {
   "cell_type": "code",
   "execution_count": 27,
   "metadata": {},
   "outputs": [],
   "source": [
    "import utils as u\n",
    "import torch\n",
    "import pandas as pd\n",
    "import matplotlib.pyplot as plt"
   ]
  },
  {
   "cell_type": "code",
   "execution_count": 28,
   "metadata": {},
   "outputs": [],
   "source": [
    "data = pd.read_csv('./dataset/anchor_points_dataset/data_points.csv')"
   ]
  },
  {
   "cell_type": "code",
   "execution_count": null,
   "metadata": {},
   "outputs": [],
   "source": [
    "# Reconstruct data\n",
    "\n",
    "def reconstruct_data(data):\n",
    "    data_tensor = torch.tensor(data[0:204])\n",
    "    data_restructured = torch.zeros(size=(3,68)) \n",
    "    data_restructured[0, :] = data_tensor[0:68]\n",
    "    data_restructured[1, :] = data_tensor[68:136]\n",
    "    data_restructured[2, :] = data_tensor[136:204]\n",
    "    return data_restructured\n",
    "\n",
    "\n",
    "columns = [f'feature_{i}' for i in range(1, 202)] + ['label']\n",
    "df_fft = pd.DataFrame(columns=columns)\n",
    "\n",
    "for index, row in data.iterrows():\n",
    "    \n",
    "    row_list = row.values.flatten().tolist()\n",
    "    label = row_list[-1]\n",
    "    points = reconstruct_data(row_list)\n",
    "\n",
    "    points = u.min_max_scale_data(u.rotate_face(points))\n",
    "    # fft\n",
    "    fft_vector = u.fft_feature_vector(points)\n",
    "    df_fft.loc[index] = fft_vector.reshape(-1).tolist() + [label]\n",
    "\n",
    "    # \n",
    "\n",
    "df_fft.to_csv('./dataset/anchor_points_dataset/' + 'fft_data_points.csv', index=False)\n",
    "\n",
    "\n",
    "\n"
   ]
  }
 ],
 "metadata": {
  "kernelspec": {
   "display_name": "base",
   "language": "python",
   "name": "python3"
  },
  "language_info": {
   "codemirror_mode": {
    "name": "ipython",
    "version": 3
   },
   "file_extension": ".py",
   "mimetype": "text/x-python",
   "name": "python",
   "nbconvert_exporter": "python",
   "pygments_lexer": "ipython3",
   "version": "3.11.7"
  }
 },
 "nbformat": 4,
 "nbformat_minor": 2
}
