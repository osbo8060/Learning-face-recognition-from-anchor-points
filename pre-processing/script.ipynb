{
 "cells": [
  {
   "cell_type": "code",
   "execution_count": 22,
   "metadata": {},
   "outputs": [],
   "source": [
    "from facetorch import FaceAnalyzer\n",
    "from facetorch.analyzer.utilizer import LandmarkDrawerTorch\n",
    "from omegaconf import OmegaConf\n",
    "from torch.nn.functional import cosine_similarity\n",
    "from typing import Dict\n",
    "import operator\n",
    "import torchvision\n",
    "import os\n",
    "import shutil"
   ]
  },
  {
   "cell_type": "code",
   "execution_count": 27,
   "metadata": {},
   "outputs": [],
   "source": [
    "DATASET_PATH = '../original_dataset/Labeled_Faces_in_the_Wild/lfw-deepfunneled/lfw-deepfunneled'\n",
    "ANCHOR_PATH = './dataset/anchor_points_dataset'\n",
    "FACE_PATH = './dataset/face_dataset'"
   ]
  },
  {
   "cell_type": "code",
   "execution_count": 29,
   "metadata": {},
   "outputs": [],
   "source": [
    "def Process_Image(path_to_image):\n",
    "    \"\"\"\n",
    "    Processes the input image and extracts important features (anchor points).\n",
    "\n",
    "    Args:\n",
    "        path_to_image (str): The file path to the image to be processed.\n",
    "\n",
    "    Returns:\n",
    "        processed_image: The image after processing \n",
    "        anchor_points: A set of key points or features detected in the image (e.g., corners, edges, or other important features).\n",
    "    \"\"\"\n",
    "    return \n"
   ]
  },
  {
   "cell_type": "code",
   "execution_count": 30,
   "metadata": {},
   "outputs": [],
   "source": [
    "for name in os.listdir(DATASET_PATH):\n",
    "\n",
    "    temp_path = DATASET_PATH + f'/{name}'  \n",
    "    temp_anchor_path = ANCHOR_PATH + f'/{name}'\n",
    "    temp_face_path = FACE_PATH + f'/{name}'\n",
    "\n",
    "    if os.path.exists(temp_anchor_path):\n",
    "        shutil.rmtree(temp_anchor_path)\n",
    "\n",
    "    if os.path.exists(temp_face_path):\n",
    "        shutil.rmtree(temp_face_path)\n",
    "    \n",
    "    os.makedirs(temp_anchor_path)\n",
    "    os.makedirs(temp_face_path)\n",
    "\n",
    "    for image in os.listdir(temp_path):\n",
    "        Process_Image(temp_path + f'/{image}')\n",
    "    break\n",
    "\n",
    "\n",
    "\n",
    "    "
   ]
  }
 ],
 "metadata": {
  "kernelspec": {
   "display_name": "base",
   "language": "python",
   "name": "python3"
  },
  "language_info": {
   "codemirror_mode": {
    "name": "ipython",
    "version": 3
   },
   "file_extension": ".py",
   "mimetype": "text/x-python",
   "name": "python",
   "nbconvert_exporter": "python",
   "pygments_lexer": "ipython3",
   "version": "3.12.2"
  }
 },
 "nbformat": 4,
 "nbformat_minor": 2
}
